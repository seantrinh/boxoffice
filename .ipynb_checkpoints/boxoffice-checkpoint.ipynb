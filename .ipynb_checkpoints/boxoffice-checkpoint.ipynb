{
 "cells": [
  {
   "cell_type": "markdown",
   "metadata": {},
   "source": [
    "# Box Office"
   ]
  },
  {
   "cell_type": "markdown",
   "metadata": {},
   "source": [
    "Kaggle TMDB Box Office Prediction Competition 2019\n",
    "\n",
    "Authors: Sean Trinh, Hariharan Vijayachandran"
   ]
  },
  {
   "cell_type": "markdown",
   "metadata": {},
   "source": [
    "Part 1 - Process the data."
   ]
  },
  {
   "cell_type": "code",
   "execution_count": 1,
   "metadata": {},
   "outputs": [
    {
     "data": {
      "text/html": [
       "<div>\n",
       "<style scoped>\n",
       "    .dataframe tbody tr th:only-of-type {\n",
       "        vertical-align: middle;\n",
       "    }\n",
       "\n",
       "    .dataframe tbody tr th {\n",
       "        vertical-align: top;\n",
       "    }\n",
       "\n",
       "    .dataframe thead th {\n",
       "        text-align: right;\n",
       "    }\n",
       "</style>\n",
       "<table border=\"1\" class=\"dataframe\">\n",
       "  <thead>\n",
       "    <tr style=\"text-align: right;\">\n",
       "      <th></th>\n",
       "      <th>id</th>\n",
       "      <th>belongs_to_collection</th>\n",
       "      <th>budget</th>\n",
       "      <th>genres</th>\n",
       "      <th>homepage</th>\n",
       "      <th>imdb_id</th>\n",
       "      <th>original_language</th>\n",
       "      <th>original_title</th>\n",
       "      <th>overview</th>\n",
       "      <th>popularity</th>\n",
       "      <th>...</th>\n",
       "      <th>release_date</th>\n",
       "      <th>runtime</th>\n",
       "      <th>spoken_languages</th>\n",
       "      <th>status</th>\n",
       "      <th>tagline</th>\n",
       "      <th>title</th>\n",
       "      <th>Keywords</th>\n",
       "      <th>cast</th>\n",
       "      <th>crew</th>\n",
       "      <th>revenue</th>\n",
       "    </tr>\n",
       "  </thead>\n",
       "  <tbody>\n",
       "    <tr>\n",
       "      <th>0</th>\n",
       "      <td>1</td>\n",
       "      <td>[{'id': 313576, 'name': 'Hot Tub Time Machine ...</td>\n",
       "      <td>14000000</td>\n",
       "      <td>[{'id': 35, 'name': 'Comedy'}]</td>\n",
       "      <td>NaN</td>\n",
       "      <td>tt2637294</td>\n",
       "      <td>en</td>\n",
       "      <td>Hot Tub Time Machine 2</td>\n",
       "      <td>When Lou, who has become the \"father of the In...</td>\n",
       "      <td>6.575393</td>\n",
       "      <td>...</td>\n",
       "      <td>2/20/15</td>\n",
       "      <td>93.0</td>\n",
       "      <td>[{'iso_639_1': 'en', 'name': 'English'}]</td>\n",
       "      <td>Released</td>\n",
       "      <td>The Laws of Space and Time are About to be Vio...</td>\n",
       "      <td>Hot Tub Time Machine 2</td>\n",
       "      <td>[{'id': 4379, 'name': 'time travel'}, {'id': 9...</td>\n",
       "      <td>[{'cast_id': 4, 'character': 'Lou', 'credit_id...</td>\n",
       "      <td>[{'credit_id': '59ac067c92514107af02c8c8', 'de...</td>\n",
       "      <td>12314651</td>\n",
       "    </tr>\n",
       "    <tr>\n",
       "      <th>1</th>\n",
       "      <td>2</td>\n",
       "      <td>[{'id': 107674, 'name': 'The Princess Diaries ...</td>\n",
       "      <td>40000000</td>\n",
       "      <td>[{'id': 35, 'name': 'Comedy'}, {'id': 18, 'nam...</td>\n",
       "      <td>NaN</td>\n",
       "      <td>tt0368933</td>\n",
       "      <td>en</td>\n",
       "      <td>The Princess Diaries 2: Royal Engagement</td>\n",
       "      <td>Mia Thermopolis is now a college graduate and ...</td>\n",
       "      <td>8.248895</td>\n",
       "      <td>...</td>\n",
       "      <td>8/6/04</td>\n",
       "      <td>113.0</td>\n",
       "      <td>[{'iso_639_1': 'en', 'name': 'English'}]</td>\n",
       "      <td>Released</td>\n",
       "      <td>It can take a lifetime to find true love; she'...</td>\n",
       "      <td>The Princess Diaries 2: Royal Engagement</td>\n",
       "      <td>[{'id': 2505, 'name': 'coronation'}, {'id': 42...</td>\n",
       "      <td>[{'cast_id': 1, 'character': 'Mia Thermopolis'...</td>\n",
       "      <td>[{'credit_id': '52fe43fe9251416c7502563d', 'de...</td>\n",
       "      <td>95149435</td>\n",
       "    </tr>\n",
       "    <tr>\n",
       "      <th>2</th>\n",
       "      <td>3</td>\n",
       "      <td>NaN</td>\n",
       "      <td>3300000</td>\n",
       "      <td>[{'id': 18, 'name': 'Drama'}]</td>\n",
       "      <td>http://sonyclassics.com/whiplash/</td>\n",
       "      <td>tt2582802</td>\n",
       "      <td>en</td>\n",
       "      <td>Whiplash</td>\n",
       "      <td>Under the direction of a ruthless instructor, ...</td>\n",
       "      <td>64.299990</td>\n",
       "      <td>...</td>\n",
       "      <td>10/10/14</td>\n",
       "      <td>105.0</td>\n",
       "      <td>[{'iso_639_1': 'en', 'name': 'English'}]</td>\n",
       "      <td>Released</td>\n",
       "      <td>The road to greatness can take you to the edge.</td>\n",
       "      <td>Whiplash</td>\n",
       "      <td>[{'id': 1416, 'name': 'jazz'}, {'id': 1523, 'n...</td>\n",
       "      <td>[{'cast_id': 5, 'character': 'Andrew Neimann',...</td>\n",
       "      <td>[{'credit_id': '54d5356ec3a3683ba0000039', 'de...</td>\n",
       "      <td>13092000</td>\n",
       "    </tr>\n",
       "    <tr>\n",
       "      <th>3</th>\n",
       "      <td>4</td>\n",
       "      <td>NaN</td>\n",
       "      <td>1200000</td>\n",
       "      <td>[{'id': 53, 'name': 'Thriller'}, {'id': 18, 'n...</td>\n",
       "      <td>http://kahaanithefilm.com/</td>\n",
       "      <td>tt1821480</td>\n",
       "      <td>hi</td>\n",
       "      <td>Kahaani</td>\n",
       "      <td>Vidya Bagchi (Vidya Balan) arrives in Kolkata ...</td>\n",
       "      <td>3.174936</td>\n",
       "      <td>...</td>\n",
       "      <td>3/9/12</td>\n",
       "      <td>122.0</td>\n",
       "      <td>[{'iso_639_1': 'en', 'name': 'English'}, {'iso...</td>\n",
       "      <td>Released</td>\n",
       "      <td>NaN</td>\n",
       "      <td>Kahaani</td>\n",
       "      <td>[{'id': 10092, 'name': 'mystery'}, {'id': 1054...</td>\n",
       "      <td>[{'cast_id': 1, 'character': 'Vidya Bagchi', '...</td>\n",
       "      <td>[{'credit_id': '52fe48779251416c9108d6eb', 'de...</td>\n",
       "      <td>16000000</td>\n",
       "    </tr>\n",
       "    <tr>\n",
       "      <th>4</th>\n",
       "      <td>5</td>\n",
       "      <td>NaN</td>\n",
       "      <td>0</td>\n",
       "      <td>[{'id': 28, 'name': 'Action'}, {'id': 53, 'nam...</td>\n",
       "      <td>NaN</td>\n",
       "      <td>tt1380152</td>\n",
       "      <td>ko</td>\n",
       "      <td>마린보이</td>\n",
       "      <td>Marine Boy is the story of a former national s...</td>\n",
       "      <td>1.148070</td>\n",
       "      <td>...</td>\n",
       "      <td>2/5/09</td>\n",
       "      <td>118.0</td>\n",
       "      <td>[{'iso_639_1': 'ko', 'name': '한국어/조선말'}]</td>\n",
       "      <td>Released</td>\n",
       "      <td>NaN</td>\n",
       "      <td>Marine Boy</td>\n",
       "      <td>NaN</td>\n",
       "      <td>[{'cast_id': 3, 'character': 'Chun-soo', 'cred...</td>\n",
       "      <td>[{'credit_id': '52fe464b9251416c75073b43', 'de...</td>\n",
       "      <td>3923970</td>\n",
       "    </tr>\n",
       "  </tbody>\n",
       "</table>\n",
       "<p>5 rows × 23 columns</p>\n",
       "</div>"
      ],
      "text/plain": [
       "   id                              belongs_to_collection    budget  \\\n",
       "0   1  [{'id': 313576, 'name': 'Hot Tub Time Machine ...  14000000   \n",
       "1   2  [{'id': 107674, 'name': 'The Princess Diaries ...  40000000   \n",
       "2   3                                                NaN   3300000   \n",
       "3   4                                                NaN   1200000   \n",
       "4   5                                                NaN         0   \n",
       "\n",
       "                                              genres  \\\n",
       "0                     [{'id': 35, 'name': 'Comedy'}]   \n",
       "1  [{'id': 35, 'name': 'Comedy'}, {'id': 18, 'nam...   \n",
       "2                      [{'id': 18, 'name': 'Drama'}]   \n",
       "3  [{'id': 53, 'name': 'Thriller'}, {'id': 18, 'n...   \n",
       "4  [{'id': 28, 'name': 'Action'}, {'id': 53, 'nam...   \n",
       "\n",
       "                            homepage    imdb_id original_language  \\\n",
       "0                                NaN  tt2637294                en   \n",
       "1                                NaN  tt0368933                en   \n",
       "2  http://sonyclassics.com/whiplash/  tt2582802                en   \n",
       "3         http://kahaanithefilm.com/  tt1821480                hi   \n",
       "4                                NaN  tt1380152                ko   \n",
       "\n",
       "                             original_title  \\\n",
       "0                    Hot Tub Time Machine 2   \n",
       "1  The Princess Diaries 2: Royal Engagement   \n",
       "2                                  Whiplash   \n",
       "3                                   Kahaani   \n",
       "4                                      마린보이   \n",
       "\n",
       "                                            overview  popularity  ...  \\\n",
       "0  When Lou, who has become the \"father of the In...    6.575393  ...   \n",
       "1  Mia Thermopolis is now a college graduate and ...    8.248895  ...   \n",
       "2  Under the direction of a ruthless instructor, ...   64.299990  ...   \n",
       "3  Vidya Bagchi (Vidya Balan) arrives in Kolkata ...    3.174936  ...   \n",
       "4  Marine Boy is the story of a former national s...    1.148070  ...   \n",
       "\n",
       "  release_date runtime                                   spoken_languages  \\\n",
       "0      2/20/15    93.0           [{'iso_639_1': 'en', 'name': 'English'}]   \n",
       "1       8/6/04   113.0           [{'iso_639_1': 'en', 'name': 'English'}]   \n",
       "2     10/10/14   105.0           [{'iso_639_1': 'en', 'name': 'English'}]   \n",
       "3       3/9/12   122.0  [{'iso_639_1': 'en', 'name': 'English'}, {'iso...   \n",
       "4       2/5/09   118.0           [{'iso_639_1': 'ko', 'name': '한국어/조선말'}]   \n",
       "\n",
       "     status                                            tagline  \\\n",
       "0  Released  The Laws of Space and Time are About to be Vio...   \n",
       "1  Released  It can take a lifetime to find true love; she'...   \n",
       "2  Released    The road to greatness can take you to the edge.   \n",
       "3  Released                                                NaN   \n",
       "4  Released                                                NaN   \n",
       "\n",
       "                                      title  \\\n",
       "0                    Hot Tub Time Machine 2   \n",
       "1  The Princess Diaries 2: Royal Engagement   \n",
       "2                                  Whiplash   \n",
       "3                                   Kahaani   \n",
       "4                                Marine Boy   \n",
       "\n",
       "                                            Keywords  \\\n",
       "0  [{'id': 4379, 'name': 'time travel'}, {'id': 9...   \n",
       "1  [{'id': 2505, 'name': 'coronation'}, {'id': 42...   \n",
       "2  [{'id': 1416, 'name': 'jazz'}, {'id': 1523, 'n...   \n",
       "3  [{'id': 10092, 'name': 'mystery'}, {'id': 1054...   \n",
       "4                                                NaN   \n",
       "\n",
       "                                                cast  \\\n",
       "0  [{'cast_id': 4, 'character': 'Lou', 'credit_id...   \n",
       "1  [{'cast_id': 1, 'character': 'Mia Thermopolis'...   \n",
       "2  [{'cast_id': 5, 'character': 'Andrew Neimann',...   \n",
       "3  [{'cast_id': 1, 'character': 'Vidya Bagchi', '...   \n",
       "4  [{'cast_id': 3, 'character': 'Chun-soo', 'cred...   \n",
       "\n",
       "                                                crew   revenue  \n",
       "0  [{'credit_id': '59ac067c92514107af02c8c8', 'de...  12314651  \n",
       "1  [{'credit_id': '52fe43fe9251416c7502563d', 'de...  95149435  \n",
       "2  [{'credit_id': '54d5356ec3a3683ba0000039', 'de...  13092000  \n",
       "3  [{'credit_id': '52fe48779251416c9108d6eb', 'de...  16000000  \n",
       "4  [{'credit_id': '52fe464b9251416c75073b43', 'de...   3923970  \n",
       "\n",
       "[5 rows x 23 columns]"
      ]
     },
     "execution_count": 1,
     "metadata": {},
     "output_type": "execute_result"
    }
   ],
   "source": [
    "'''\n",
    "    Process the data.\n",
    "'''\n",
    "import pandas as pd\n",
    "\n",
    "train_df = pd.read_csv('./data/train.csv')\n",
    "test_df = pd.read_csv('./data/test.csv')\n",
    "train_df.head()"
   ]
  },
  {
   "cell_type": "code",
   "execution_count": 2,
   "metadata": {},
   "outputs": [
    {
     "name": "stdout",
     "output_type": "stream",
     "text": [
      "<class 'pandas.core.frame.DataFrame'>\n",
      "RangeIndex: 3000 entries, 0 to 2999\n",
      "Data columns (total 23 columns):\n",
      "id                       3000 non-null int64\n",
      "belongs_to_collection    604 non-null object\n",
      "budget                   3000 non-null int64\n",
      "genres                   2993 non-null object\n",
      "homepage                 946 non-null object\n",
      "imdb_id                  3000 non-null object\n",
      "original_language        3000 non-null object\n",
      "original_title           3000 non-null object\n",
      "overview                 2992 non-null object\n",
      "popularity               3000 non-null float64\n",
      "poster_path              2999 non-null object\n",
      "production_companies     2844 non-null object\n",
      "production_countries     2945 non-null object\n",
      "release_date             3000 non-null object\n",
      "runtime                  2998 non-null float64\n",
      "spoken_languages         2980 non-null object\n",
      "status                   3000 non-null object\n",
      "tagline                  2403 non-null object\n",
      "title                    3000 non-null object\n",
      "Keywords                 2724 non-null object\n",
      "cast                     2987 non-null object\n",
      "crew                     2984 non-null object\n",
      "revenue                  3000 non-null int64\n",
      "dtypes: float64(2), int64(3), object(18)\n",
      "memory usage: 539.1+ KB\n"
     ]
    }
   ],
   "source": [
    "train_df.info()"
   ]
  },
  {
   "cell_type": "markdown",
   "metadata": {},
   "source": [
    "FEATURE ANALYSIS:\n",
    "    Our very basic, initial approach was to simply take all of the attributes already represented as numerical values. Here is how those attributes (budget, runtime, popularity) correlated with revenue in the training data."
   ]
  },
  {
   "cell_type": "code",
   "execution_count": 4,
   "metadata": {
    "scrolled": true
   },
   "outputs": [
    {
     "data": {
      "image/png": "[encoded data removed]",
      "text/plain": [
       "<Figure size 432x288 with 1 Axes>"
      ]
     },
     "metadata": {
      "needs_background": "light"
     },
     "output_type": "display_data"
    }
   ],
   "source": [
    "import matplotlib.pyplot as plt\n",
    "%matplotlib inline\n",
    "\n",
    "#budget v revenue\n",
    "plt.scatter(train_df['budget'], train_df['revenue'])\n",
    "plt.title('Revenue vs budget');"
   ]
  },
  {
   "cell_type": "code",
   "execution_count": 10,
   "metadata": {},
   "outputs": [
    {
     "name": "stdout",
     "output_type": "stream",
     "text": [
      "0.7529645103815286\n"
     ]
    }
   ],
   "source": [
    "# PRINT THE CORRELATION COEFFICIENT\n",
    "print(np.corrcoef(train_df['budget'], train_df['revenue'])[0][1])"
   ]
  },
  {
   "cell_type": "code",
   "execution_count": 6,
   "metadata": {},
   "outputs": [
    {
     "data": {
      "image/png": "[encoded data removed]",
      "text/plain": [
       "<Figure size 432x288 with 1 Axes>"
      ]
     },
     "metadata": {
      "needs_background": "light"
     },
     "output_type": "display_data"
    }
   ],
   "source": [
    "import matplotlib.pyplot as plt\n",
    "import numpy as np\n",
    "%matplotlib inline\n",
    "\n",
    "#log budget v log revenue\n",
    "plt.scatter(np.log1p(train_df['budget']), np.log1p(train_df['revenue']))\n",
    "plt.title('Log Revenue vs log budget');"
   ]
  },
  {
   "cell_type": "code",
   "execution_count": 12,
   "metadata": {},
   "outputs": [
    {
     "data": {
      "image/png": "[encoded data removed]",
      "text/plain": [
       "<Figure size 432x288 with 1 Axes>"
      ]
     },
     "metadata": {
      "needs_background": "light"
     },
     "output_type": "display_data"
    }
   ],
   "source": [
    "import matplotlib.pyplot as plt\n",
    "%matplotlib inline\n",
    "\n",
    "#popularity v revenue\n",
    "plt.scatter(train_df['popularity'], train_df['revenue'])\n",
    "plt.title('Revenue vs popularity');"
   ]
  },
  {
   "cell_type": "code",
   "execution_count": 13,
   "metadata": {},
   "outputs": [
    {
     "name": "stdout",
     "output_type": "stream",
     "text": [
      "0.4614602896736131\n"
     ]
    }
   ],
   "source": [
    "# PRINT THE CORRELATION COEFFICIENT\n",
    "print(np.corrcoef(train_df['popularity'], train_df['revenue'])[0][1])"
   ]
  },
  {
   "cell_type": "code",
   "execution_count": 18,
   "metadata": {
    "scrolled": true
   },
   "outputs": [
    {
     "data": {
      "image/png": "[encoded data removed]",
      "text/plain": [
       "<Figure size 432x288 with 1 Axes>"
      ]
     },
     "metadata": {
      "needs_background": "light"
     },
     "output_type": "display_data"
    }
   ],
   "source": [
    "import matplotlib.pyplot as plt\n",
    "import numpy as np\n",
    "%matplotlib inline\n",
    "\n",
    "#popularity v log revenue\n",
    "plt.scatter(np.log1p(train_df['popularity']), np.log1p(train_df['revenue']))\n",
    "plt.title('Log Revenue vs log popularity');"
   ]
  },
  {
   "cell_type": "code",
   "execution_count": 19,
   "metadata": {},
   "outputs": [
    {
     "name": "stdout",
     "output_type": "stream",
     "text": [
      "0.5419617283420397\n"
     ]
    }
   ],
   "source": [
    "# PRINT THE CORRELATION COEFFICIENT\n",
    "print(np.corrcoef(np.log1p(train_df['popularity']), np.log1p(train_df['revenue']))[0][1])"
   ]
  },
  {
   "cell_type": "code",
   "execution_count": 23,
   "metadata": {
    "scrolled": true
   },
   "outputs": [
    {
     "data": {
      "image/png": "[encoded data removed]",
      "text/plain": [
       "<Figure size 432x288 with 1 Axes>"
      ]
     },
     "metadata": {
      "needs_background": "light"
     },
     "output_type": "display_data"
    }
   ],
   "source": [
    "import matplotlib.pyplot as plt\n",
    "%matplotlib inline\n",
    "\n",
    "#runtime v revenue\n",
    "plt.scatter(train_df['runtime'].fillna(0), train_df['revenue'])\n",
    "plt.title('Revenue vs runtime');"
   ]
  },
  {
   "cell_type": "code",
   "execution_count": 25,
   "metadata": {},
   "outputs": [
    {
     "name": "stdout",
     "output_type": "stream",
     "text": [
      "0.2162299348350639\n"
     ]
    }
   ],
   "source": [
    "# PRINT THE CORRELATION COEFFICIENT\n",
    "print(np.corrcoef(train_df['runtime'].fillna(0), train_df['revenue'])[0][1])"
   ]
  },
  {
   "cell_type": "code",
   "execution_count": 82,
   "metadata": {},
   "outputs": [],
   "source": [
    "to_drop = ['release_date','id','belongs_to_collection','genres','homepage','imdb_id','original_title','title','original_language','overview','poster_path','production_companies','production_countries','spoken_languages','status','tagline','Keywords','cast','crew']\n",
    "for x in to_drop:\n",
    "    train_df = train_df.drop(x,axis=1)\n",
    "    if x!= 'revenue':\n",
    "        test_df = test_df.drop(x,axis=1)"
   ]
  },
  {
   "cell_type": "code",
   "execution_count": 83,
   "metadata": {},
   "outputs": [
    {
     "data": {
      "text/html": [
       "<div>\n",
       "<style scoped>\n",
       "    .dataframe tbody tr th:only-of-type {\n",
       "        vertical-align: middle;\n",
       "    }\n",
       "\n",
       "    .dataframe tbody tr th {\n",
       "        vertical-align: top;\n",
       "    }\n",
       "\n",
       "    .dataframe thead th {\n",
       "        text-align: right;\n",
       "    }\n",
       "</style>\n",
       "<table border=\"1\" class=\"dataframe\">\n",
       "  <thead>\n",
       "    <tr style=\"text-align: right;\">\n",
       "      <th></th>\n",
       "      <th>budget</th>\n",
       "      <th>popularity</th>\n",
       "      <th>runtime</th>\n",
       "      <th>revenue</th>\n",
       "    </tr>\n",
       "  </thead>\n",
       "  <tbody>\n",
       "    <tr>\n",
       "      <th>0</th>\n",
       "      <td>14000000</td>\n",
       "      <td>6.575393</td>\n",
       "      <td>93.0</td>\n",
       "      <td>12314651</td>\n",
       "    </tr>\n",
       "    <tr>\n",
       "      <th>1</th>\n",
       "      <td>40000000</td>\n",
       "      <td>8.248895</td>\n",
       "      <td>113.0</td>\n",
       "      <td>95149435</td>\n",
       "    </tr>\n",
       "    <tr>\n",
       "      <th>2</th>\n",
       "      <td>3300000</td>\n",
       "      <td>64.299990</td>\n",
       "      <td>105.0</td>\n",
       "      <td>13092000</td>\n",
       "    </tr>\n",
       "    <tr>\n",
       "      <th>3</th>\n",
       "      <td>1200000</td>\n",
       "      <td>3.174936</td>\n",
       "      <td>122.0</td>\n",
       "      <td>16000000</td>\n",
       "    </tr>\n",
       "    <tr>\n",
       "      <th>4</th>\n",
       "      <td>0</td>\n",
       "      <td>1.148070</td>\n",
       "      <td>118.0</td>\n",
       "      <td>3923970</td>\n",
       "    </tr>\n",
       "  </tbody>\n",
       "</table>\n",
       "</div>"
      ],
      "text/plain": [
       "     budget  popularity  runtime   revenue\n",
       "0  14000000    6.575393     93.0  12314651\n",
       "1  40000000    8.248895    113.0  95149435\n",
       "2   3300000   64.299990    105.0  13092000\n",
       "3   1200000    3.174936    122.0  16000000\n",
       "4         0    1.148070    118.0   3923970"
      ]
     },
     "execution_count": 83,
     "metadata": {},
     "output_type": "execute_result"
    }
   ],
   "source": [
    "train_df.head()\n"
   ]
  },
  {
   "cell_type": "code",
   "execution_count": 84,
   "metadata": {},
   "outputs": [],
   "source": [
    "train=train_df.sample(frac=0.7,random_state=200)\n",
    "test=train_df.drop(train.index)"
   ]
  },
  {
   "cell_type": "code",
   "execution_count": 85,
   "metadata": {},
   "outputs": [
    {
     "name": "stdout",
     "output_type": "stream",
     "text": [
      "2100\n",
      "900\n"
     ]
    }
   ],
   "source": [
    "print(len(train))\n",
    "\n",
    "print(len(test))\n"
   ]
  },
  {
   "cell_type": "code",
   "execution_count": 86,
   "metadata": {},
   "outputs": [
    {
     "data": {
      "text/html": [
       "<div>\n",
       "<style scoped>\n",
       "    .dataframe tbody tr th:only-of-type {\n",
       "        vertical-align: middle;\n",
       "    }\n",
       "\n",
       "    .dataframe tbody tr th {\n",
       "        vertical-align: top;\n",
       "    }\n",
       "\n",
       "    .dataframe thead th {\n",
       "        text-align: right;\n",
       "    }\n",
       "</style>\n",
       "<table border=\"1\" class=\"dataframe\">\n",
       "  <thead>\n",
       "    <tr style=\"text-align: right;\">\n",
       "      <th></th>\n",
       "      <th>budget</th>\n",
       "      <th>popularity</th>\n",
       "      <th>runtime</th>\n",
       "      <th>revenue</th>\n",
       "    </tr>\n",
       "  </thead>\n",
       "  <tbody>\n",
       "    <tr>\n",
       "      <th>2585</th>\n",
       "      <td>0.000000</td>\n",
       "      <td>1.657191</td>\n",
       "      <td>4.418841</td>\n",
       "      <td>14.156419</td>\n",
       "    </tr>\n",
       "    <tr>\n",
       "      <th>2611</th>\n",
       "      <td>0.000000</td>\n",
       "      <td>2.818963</td>\n",
       "      <td>4.672829</td>\n",
       "      <td>18.251453</td>\n",
       "    </tr>\n",
       "    <tr>\n",
       "      <th>219</th>\n",
       "      <td>14.771022</td>\n",
       "      <td>0.790251</td>\n",
       "      <td>4.653960</td>\n",
       "      <td>14.967980</td>\n",
       "    </tr>\n",
       "    <tr>\n",
       "      <th>2204</th>\n",
       "      <td>17.504390</td>\n",
       "      <td>2.382268</td>\n",
       "      <td>4.691348</td>\n",
       "      <td>17.153756</td>\n",
       "    </tr>\n",
       "    <tr>\n",
       "      <th>251</th>\n",
       "      <td>18.400478</td>\n",
       "      <td>1.985746</td>\n",
       "      <td>4.779123</td>\n",
       "      <td>16.119826</td>\n",
       "    </tr>\n",
       "  </tbody>\n",
       "</table>\n",
       "</div>"
      ],
      "text/plain": [
       "         budget  popularity   runtime    revenue\n",
       "2585   0.000000    1.657191  4.418841  14.156419\n",
       "2611   0.000000    2.818963  4.672829  18.251453\n",
       "219   14.771022    0.790251  4.653960  14.967980\n",
       "2204  17.504390    2.382268  4.691348  17.153756\n",
       "251   18.400478    1.985746  4.779123  16.119826"
      ]
     },
     "execution_count": 86,
     "metadata": {},
     "output_type": "execute_result"
    }
   ],
   "source": [
    "import numpy as np\n",
    "train = train.apply(np.log)\n",
    "def f(x):\n",
    "    if x<0:\n",
    "        return 0\n",
    "    return x\n",
    "train = train.applymap(f)\n",
    "train = train.fillna(0)\n",
    "X = train.drop('revenue',axis = 1)\n",
    "Y = train['revenue']\n",
    "\n",
    "test = test.apply(np.log)\n",
    "test = test.applymap(f)\n",
    "test = test.fillna(0)\n",
    "X_test =test.drop('revenue',axis = 1)\n",
    "Y_test = test['revenue']\n",
    "\n",
    "train.head()"
   ]
  },
  {
   "cell_type": "code",
   "execution_count": 87,
   "metadata": {
    "scrolled": false
   },
   "outputs": [
    {
     "name": "stdout",
     "output_type": "stream",
     "text": [
      "_________________________________________________________________\n",
      "Layer (type)                 Output Shape              Param #   \n",
      "=================================================================\n",
      "dense_43 (Dense)             (None, 356)               1424      \n",
      "_________________________________________________________________\n",
      "dropout_6 (Dropout)          (None, 356)               0         \n",
      "_________________________________________________________________\n",
      "dense_44 (Dense)             (None, 256)               91392     \n",
      "_________________________________________________________________\n",
      "dense_45 (Dense)             (None, 10)                2570      \n",
      "_________________________________________________________________\n",
      "dense_46 (Dense)             (None, 1)                 11        \n",
      "=================================================================\n",
      "Total params: 95,397\n",
      "Trainable params: 95,397\n",
      "Non-trainable params: 0\n",
      "_________________________________________________________________\n"
     ]
    }
   ],
   "source": [
    "from keras import models, layers, regularizers, optimizers\n",
    "model=models.Sequential()\n",
    "model.add(layers.Dense(356, activation='relu', input_shape=(X.shape[1],)))\n",
    "model.add(layers.Dropout(0.2))\n",
    "model.add(layers.Dense(256, activation='relu'))\n",
    "model.add(layers.Dense(10,activation='relu'))\n",
    "# model.add(layers.Dropout(0.1))\n",
    "# model.add(layers.Dense(10,activation='relu'))\n",
    "model.add(layers.Dense(1))\n",
    "model.summary()\n",
    "model.compile(optimizer=optimizers.rmsprop(lr=1e-5),loss='mse'\n",
    ",metrics=['mean_squared_logarithmic_error'])"
   ]
  },
  {
   "cell_type": "code",
   "execution_count": 88,
   "metadata": {},
   "outputs": [
    {
     "name": "stdout",
     "output_type": "stream",
     "text": [
      "Train on 2100 samples, validate on 900 samples\n",
      "Epoch 1/40\n",
      "2100/2100 [==============================] - 1s 383us/step - loss: 210.0172 - mean_squared_logarithmic_error: 3.6836 - val_loss: 191.6418 - val_mean_squared_logarithmic_error: 2.9072\n",
      "Epoch 2/40\n",
      "2100/2100 [==============================] - 0s 75us/step - loss: 178.4591 - mean_squared_logarithmic_error: 2.5462 - val_loss: 160.4942 - val_mean_squared_logarithmic_error: 2.0571\n",
      "Epoch 3/40\n",
      "2100/2100 [==============================] - 0s 75us/step - loss: 148.3601 - mean_squared_logarithmic_error: 1.8317 - val_loss: 132.1980 - val_mean_squared_logarithmic_error: 1.5058\n",
      "Epoch 4/40\n",
      "2100/2100 [==============================] - 0s 71us/step - loss: 121.7883 - mean_squared_logarithmic_error: 1.3602 - val_loss: 107.1697 - val_mean_squared_logarithmic_error: 1.1295\n",
      "Epoch 5/40\n",
      "2100/2100 [==============================] - 0s 71us/step - loss: 97.9559 - mean_squared_logarithmic_error: 1.0317 - val_loss: 84.9744 - val_mean_squared_logarithmic_error: 0.8587\n",
      "Epoch 6/40\n",
      "2100/2100 [==============================] - 0s 73us/step - loss: 77.7052 - mean_squared_logarithmic_error: 0.7925 - val_loss: 66.2281 - val_mean_squared_logarithmic_error: 0.6621\n",
      "Epoch 7/40\n",
      "2100/2100 [==============================] - 0s 70us/step - loss: 60.5537 - mean_squared_logarithmic_error: 0.6155 - val_loss: 50.9752 - val_mean_squared_logarithmic_error: 0.5179\n",
      "Epoch 8/40\n",
      "2100/2100 [==============================] - 0s 71us/step - loss: 46.7445 - mean_squared_logarithmic_error: 0.4859 - val_loss: 39.6251 - val_mean_squared_logarithmic_error: 0.4141\n",
      "Epoch 9/40\n",
      "2100/2100 [==============================] - 0s 72us/step - loss: 37.3888 - mean_squared_logarithmic_error: 0.3970 - val_loss: 32.3502 - val_mean_squared_logarithmic_error: 0.3425\n",
      "Epoch 10/40\n",
      "2100/2100 [==============================] - 0s 76us/step - loss: 31.8430 - mean_squared_logarithmic_error: 0.3319 - val_loss: 28.9509 - val_mean_squared_logarithmic_error: 0.2947\n",
      "Epoch 11/40\n",
      "2100/2100 [==============================] - 0s 81us/step - loss: 29.1245 - mean_squared_logarithmic_error: 0.2873 - val_loss: 26.8888 - val_mean_squared_logarithmic_error: 0.2585\n",
      "Epoch 12/40\n",
      "2100/2100 [==============================] - 0s 82us/step - loss: 26.9850 - mean_squared_logarithmic_error: 0.2520 - val_loss: 24.9126 - val_mean_squared_logarithmic_error: 0.2278\n",
      "Epoch 13/40\n",
      "2100/2100 [==============================] - 0s 81us/step - loss: 25.2323 - mean_squared_logarithmic_error: 0.2256 - val_loss: 23.0362 - val_mean_squared_logarithmic_error: 0.2020\n",
      "Epoch 14/40\n",
      "2100/2100 [==============================] - 0s 82us/step - loss: 23.1182 - mean_squared_logarithmic_error: 0.1975 - val_loss: 21.2283 - val_mean_squared_logarithmic_error: 0.1792\n",
      "Epoch 15/40\n",
      "2100/2100 [==============================] - 0s 90us/step - loss: 21.2855 - mean_squared_logarithmic_error: 0.1754 - val_loss: 19.4217 - val_mean_squared_logarithmic_error: 0.1584\n",
      "Epoch 16/40\n",
      "2100/2100 [==============================] - 0s 88us/step - loss: 19.6879 - mean_squared_logarithmic_error: 0.1568 - val_loss: 17.7161 - val_mean_squared_logarithmic_error: 0.1405\n",
      "Epoch 17/40\n",
      "2100/2100 [==============================] - 0s 82us/step - loss: 17.9398 - mean_squared_logarithmic_error: 0.1391 - val_loss: 16.0871 - val_mean_squared_logarithmic_error: 0.1249\n",
      "Epoch 18/40\n",
      "2100/2100 [==============================] - 0s 84us/step - loss: 16.2876 - mean_squared_logarithmic_error: 0.1237 - val_loss: 14.4919 - val_mean_squared_logarithmic_error: 0.1107\n",
      "Epoch 19/40\n",
      "2100/2100 [==============================] - 0s 78us/step - loss: 14.7245 - mean_squared_logarithmic_error: 0.1104 - val_loss: 13.0636 - val_mean_squared_logarithmic_error: 0.0992\n",
      "Epoch 20/40\n",
      "2100/2100 [==============================] - 0s 76us/step - loss: 13.2214 - mean_squared_logarithmic_error: 0.0991 - val_loss: 11.7076 - val_mean_squared_logarithmic_error: 0.0891\n",
      "Epoch 21/40\n",
      "2100/2100 [==============================] - 0s 75us/step - loss: 11.8343 - mean_squared_logarithmic_error: 0.0890 - val_loss: 10.5327 - val_mean_squared_logarithmic_error: 0.0810\n",
      "Epoch 22/40\n",
      "2100/2100 [==============================] - 0s 73us/step - loss: 10.6967 - mean_squared_logarithmic_error: 0.0808 - val_loss: 9.4799 - val_mean_squared_logarithmic_error: 0.0743\n",
      "Epoch 23/40\n",
      "2100/2100 [==============================] - 0s 75us/step - loss: 9.7394 - mean_squared_logarithmic_error: 0.0751 - val_loss: 8.5662 - val_mean_squared_logarithmic_error: 0.0690\n",
      "Epoch 24/40\n",
      "2100/2100 [==============================] - 0s 76us/step - loss: 8.9584 - mean_squared_logarithmic_error: 0.0705 - val_loss: 7.7764 - val_mean_squared_logarithmic_error: 0.0649\n",
      "Epoch 25/40\n",
      "2100/2100 [==============================] - 0s 73us/step - loss: 8.3640 - mean_squared_logarithmic_error: 0.0670 - val_loss: 7.1810 - val_mean_squared_logarithmic_error: 0.0620\n",
      "Epoch 26/40\n",
      "2100/2100 [==============================] - 0s 77us/step - loss: 7.5411 - mean_squared_logarithmic_error: 0.0633 - val_loss: 6.6712 - val_mean_squared_logarithmic_error: 0.0598\n",
      "Epoch 27/40\n",
      "2100/2100 [==============================] - 0s 75us/step - loss: 7.2171 - mean_squared_logarithmic_error: 0.0616 - val_loss: 6.3052 - val_mean_squared_logarithmic_error: 0.0585\n",
      "Epoch 28/40\n",
      "2100/2100 [==============================] - 0s 75us/step - loss: 6.8254 - mean_squared_logarithmic_error: 0.0598 - val_loss: 6.0666 - val_mean_squared_logarithmic_error: 0.0577\n",
      "Epoch 29/40\n",
      "2100/2100 [==============================] - 0s 74us/step - loss: 6.5981 - mean_squared_logarithmic_error: 0.0592 - val_loss: 5.9487 - val_mean_squared_logarithmic_error: 0.0572\n",
      "Epoch 30/40\n",
      "2100/2100 [==============================] - 0s 82us/step - loss: 6.5225 - mean_squared_logarithmic_error: 0.0588 - val_loss: 5.8700 - val_mean_squared_logarithmic_error: 0.0571\n",
      "Epoch 31/40\n",
      "2100/2100 [==============================] - 0s 82us/step - loss: 6.3849 - mean_squared_logarithmic_error: 0.0589 - val_loss: 5.7656 - val_mean_squared_logarithmic_error: 0.0572\n",
      "Epoch 32/40\n",
      "2100/2100 [==============================] - 0s 82us/step - loss: 6.4419 - mean_squared_logarithmic_error: 0.0591 - val_loss: 5.7916 - val_mean_squared_logarithmic_error: 0.0571\n",
      "Epoch 33/40\n",
      "2100/2100 [==============================] - 0s 78us/step - loss: 6.3122 - mean_squared_logarithmic_error: 0.0585 - val_loss: 5.7239 - val_mean_squared_logarithmic_error: 0.0572\n",
      "Epoch 34/40\n",
      "2100/2100 [==============================] - 0s 78us/step - loss: 6.5023 - mean_squared_logarithmic_error: 0.0594 - val_loss: 5.7782 - val_mean_squared_logarithmic_error: 0.0572\n",
      "Epoch 35/40\n",
      "2100/2100 [==============================] - 0s 82us/step - loss: 6.2142 - mean_squared_logarithmic_error: 0.0583 - val_loss: 5.7278 - val_mean_squared_logarithmic_error: 0.0572\n",
      "Epoch 36/40\n",
      "2100/2100 [==============================] - 0s 82us/step - loss: 6.2535 - mean_squared_logarithmic_error: 0.0588 - val_loss: 5.7972 - val_mean_squared_logarithmic_error: 0.0572\n",
      "Epoch 37/40\n",
      "2100/2100 [==============================] - 0s 72us/step - loss: 6.2415 - mean_squared_logarithmic_error: 0.0578 - val_loss: 5.7404 - val_mean_squared_logarithmic_error: 0.0572\n",
      "Epoch 38/40\n",
      "2100/2100 [==============================] - 0s 73us/step - loss: 6.2151 - mean_squared_logarithmic_error: 0.0581 - val_loss: 5.7229 - val_mean_squared_logarithmic_error: 0.0572\n",
      "Epoch 39/40\n",
      "2100/2100 [==============================] - 0s 75us/step - loss: 6.1856 - mean_squared_logarithmic_error: 0.0585 - val_loss: 5.6966 - val_mean_squared_logarithmic_error: 0.0572\n",
      "Epoch 40/40\n",
      "2100/2100 [==============================] - 0s 80us/step - loss: 6.2260 - mean_squared_logarithmic_error: 0.0588 - val_loss: 5.7068 - val_mean_squared_logarithmic_error: 0.0572\n"
     ]
    }
   ],
   "source": [
    "history=model.fit(X,Y,epochs=40,batch_size = 32, validation_data=(X_test, Y_test))"
   ]
  },
  {
   "cell_type": "markdown",
   "metadata": {},
   "source": [
    "EVALUATE AND GRAPH"
   ]
  },
  {
   "cell_type": "code",
   "execution_count": 93,
   "metadata": {
    "scrolled": true
   },
   "outputs": [
    {
     "data": {
      "image/png": "[encoded data removed]",
      "text/plain": [
       "<Figure size 432x288 with 1 Axes>"
      ]
     },
     "metadata": {
      "needs_background": "light"
     },
     "output_type": "display_data"
    }
   ],
   "source": [
    "import matplotlib.pyplot as plt\n",
    "%matplotlib inline\n",
    "\n",
    "acc = history.history['mean_squared_logarithmic_error']\n",
    "val_acc = history.history['val_mean_squared_logarithmic_error']\n",
    "\n",
    "epochs = range(len(acc))\n",
    "\n",
    "plt.plot(epochs, acc, 'bo', label='Training')\n",
    "plt.plot(epochs, val_acc, 'r', label='Validation')\n",
    "plt.xlabel('Epochs')\n",
    "plt.ylabel('Accuracy')\n",
    "plt.legend()\n",
    "plt.show()"
   ]
  },
  {
   "cell_type": "code",
   "execution_count": 94,
   "metadata": {},
   "outputs": [],
   "source": [
    "\n",
    "\n",
    "test_df = test_df.apply(np.log)\n",
    "test_df = test_df.applymap(f)\n",
    "test_df = test_df.fillna(0)\n",
    "result = model.predict(test_df)\n",
    "result = np.exp(result)\n",
    "\n",
    "output_df = pd.read_csv('./data/test.csv')\n",
    "for x in to_drop:\n",
    "    if x!= 'revenue'and x!='id':\n",
    "        output_df = output_df.drop(x,axis=1)\n",
    "output_df.drop('budget',axis=1, inplace = True)\n",
    "output_df.drop('runtime',axis=1,inplace = True)\n",
    "output_df.drop('popularity',axis=1,inplace = True)\n",
    "output_df['revenue'] = result\n",
    "output_df.to_csv(\"./submission.csv\",index = False)"
   ]
  },
  {
   "cell_type": "code",
   "execution_count": null,
   "metadata": {},
   "outputs": [],
   "source": []
  }
 ],
 "metadata": {
  "kernelspec": {
   "display_name": "Python 3",
   "language": "python",
   "name": "python3"
  },
  "language_info": {
   "codemirror_mode": {
    "name": "ipython",
    "version": 3
   },
   "file_extension": ".py",
   "mimetype": "text/x-python",
   "name": "python",
   "nbconvert_exporter": "python",
   "pygments_lexer": "ipython3",
   "version": "3.6.1"
  }
 },
 "nbformat": 4,
 "nbformat_minor": 2
}
